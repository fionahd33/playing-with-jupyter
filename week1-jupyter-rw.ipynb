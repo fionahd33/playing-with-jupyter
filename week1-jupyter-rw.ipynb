{
 "cells": [
  {
   "cell_type": "markdown",
   "metadata": {},
   "source": [
    "# *Github writing & formating*"
   ]
  },
  {
   "cell_type": "markdown",
   "metadata": {},
   "source": [
    "\n",
    "# The largest heading\n",
    ">\"# The largest heading\"\n",
    "## The second largest heading\n",
    ">\"## The second largest heading\"\n",
    "###### The smallest heading\n",
    ">\"###### The smallest heading\"\n",
    "###### 6  is the max when it comes to headings"
   ]
  },
  {
   "cell_type": "markdown",
   "metadata": {},
   "source": [
    "### How to make a list\n",
    "- George Washington\n",
    "- John Adams\n",
    "- Thomas Jefferson\n",
    "\n",
    "**or**\n",
    "\n",
    "1. James Madison\n",
    "2. James Monroe\n",
    "3. John Quincy Adams\n",
    "\n",
    "**or**\n",
    "\n",
    "1. First list item\n",
    "   - First nested list item\n",
    "     - Second nested list item"
   ]
  },
  {
   "cell_type": "code",
   "execution_count": null,
   "metadata": {},
   "outputs": [],
   "source": []
  }
 ],
 "metadata": {
  "kernelspec": {
   "display_name": "Python 3",
   "language": "python",
   "name": "python3"
  },
  "language_info": {
   "codemirror_mode": {
    "name": "ipython",
    "version": 3
   },
   "file_extension": ".py",
   "mimetype": "text/x-python",
   "name": "python",
   "nbconvert_exporter": "python",
   "pygments_lexer": "ipython3",
   "version": "3.8.5"
  }
 },
 "nbformat": 4,
 "nbformat_minor": 4
}
